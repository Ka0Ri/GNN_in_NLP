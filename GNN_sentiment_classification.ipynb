{
 "cells": [
  {
   "cell_type": "markdown",
   "metadata": {},
   "source": [
    "# Building Graph Neural Network for NLP task"
   ]
  },
  {
   "cell_type": "code",
   "execution_count": 1,
   "metadata": {},
   "outputs": [
    {
     "name": "stdout",
     "output_type": "stream",
     "text": [
      "1.12.0\n",
      "/home/vips/share/Vu\n"
     ]
    }
   ],
   "source": [
    "# Install required packages.\n",
    "import os\n",
    "import torch\n",
    "import json\n",
    "os.environ['TORCH'] = torch.__version__\n",
    "print(torch.__version__)\n",
    "\n",
    "# Helper function for visualization.\n",
    "%matplotlib inline\n",
    "import networkx as nx\n",
    "import matplotlib.pyplot as plt\n",
    "\n",
    "from konlpy.tag import Okt\n",
    "from gensim.models import Word2Vec\n",
    "Tokenizer = Okt()\n",
    "\n",
    "path = os.path.dirname(os.getcwd())\n",
    "print(path)"
   ]
  },
  {
   "cell_type": "markdown",
   "metadata": {},
   "source": [
    "## Build dataset graph"
   ]
  },
  {
   "cell_type": "code",
   "execution_count": 2,
   "metadata": {},
   "outputs": [],
   "source": [
    "base_params = {\n",
    "\n",
    "## model [\"CS2S\", \"RNN\", \"RNNA\", \"TRANS\"]\n",
    "    \"NAME\": \"GNN\",\n",
    "    \n",
    "## Path params\n",
    "    \"DATA\": os.path.join(\"NLP_data\", \"nsmc_train.json\"),\n",
    "    \"MODEL_NAME\": \"ko_word2vec.model\",\n",
    "\n",
    "## Data params\n",
    "    \"INPUT_DIM\": 128,\n",
    "    \"N_CLASSES\": 2,\n",
    "\n",
    "## Model params\n",
    "    \"HIDDEN\": 128,\n",
    "   \n",
    "\n",
    "## Training params\n",
    "    \"BATCH_FIRST\": True,\n",
    "    \"ENC_DROPOUT\": 0.1,\n",
    "    \"DEC_DROPOUT\": 0.1,\n",
    "    \"LR\": 0.01,\n",
    "    \"WARMUP_RATIO\": 0.2,\n",
    "    \"MAX_EPOCHES\": 500,\n",
    "    \"BATCH_SZ\": 128\n",
    "}"
   ]
  },
  {
   "cell_type": "markdown",
   "metadata": {},
   "source": [
    "###  Load dataset"
   ]
  },
  {
   "cell_type": "code",
   "execution_count": 3,
   "metadata": {},
   "outputs": [],
   "source": [
    "pos_remove = [\"Eomi\", \"Punctuation\", \"Unknown\", \"KoreanParticle\", \"Hashtag\", \"ScreenName\",\n",
    "                    \"Email\", \"URL\", \"PreEomi\", \"Foreign\"]\n",
    "\n",
    "def simple_process_tokens(sent):\n",
    "    tokens = Tokenizer.pos(sent, stem=True, norm=True)\n",
    "    out = []\n",
    "    for (token, type) in tokens:\n",
    "        if(type in pos_remove): \n",
    "            continue\n",
    "        else:\n",
    "            out.append(token)\n",
    "    return out\n",
    "\n",
    "\n",
    "# sentences = []\n",
    "\n",
    "# with open(os.path.join(\"NLP_data\", \"nsmc\", \"ratings_train.txt\"), 'r') as f:\n",
    "#     for line in f.readlines()[1:]:\n",
    "#         sent = line.split(\"\\t\")\n",
    "#         sentences += [(sent[1], int(sent[2]))]\n",
    "\n",
    "# sentences = []\n",
    "\n",
    "# with open(os.path.join(\"NLP_data\", \"nsmc\", \"ratings_test.txt\"), 'r') as f:\n",
    "#     for line in f.readlines()[1:]:\n",
    "#         sentences += [line.split(\"\\t\")[1]]\n",
    "\n"
   ]
  },
  {
   "cell_type": "code",
   "execution_count": 4,
   "metadata": {},
   "outputs": [],
   "source": [
    "from torch_geometric.data import Data, Dataset\n",
    "import itertools\n",
    "\n",
    "class EdgeEncoder(object):\n",
    "    def __init__(self, model_name='ko_word2vec.model', dtype=None):\n",
    "        self.dtype = dtype\n",
    "        self.model = Word2Vec.load(model_name)\n",
    "\n",
    "    def __call__(self, node1, node2):\n",
    "\n",
    "        try:\n",
    "            edge_weight = self.model.wv.similarity(node1, node2)\n",
    "            edge_weight = torch.tensor(edge_weight).to(self.dtype)\n",
    "        except:\n",
    "            edge_weight = torch.tensor(0.).to(self.dtype)\n",
    "        return edge_weight\n",
    "\n",
    "class SequenceEncoder(object):\n",
    "    def __init__(self, model_name='ko_word2vec.model', dtype=None, size=128):\n",
    "        \n",
    "        self.model = Word2Vec.load(model_name)\n",
    "        self.dtype = dtype\n",
    "        self.size = size\n",
    "\n",
    "    def __call__(self, word):\n",
    "\n",
    "        try:\n",
    "            x = self.model.wv[word]\n",
    "            x = torch.from_numpy(x).view(self.size).to(self.dtype)\n",
    "        except:\n",
    "            x = torch.zeros(self.size).to(self.dtype)\n",
    "        return x\n",
    "\n",
    "\n",
    "class NSMC_Graph(Dataset):\n",
    "    def __init__(self, sentences, args):\n",
    "        super().__init__()\n",
    "\n",
    "        self.sentences = sentences\n",
    "        \n",
    "        self.size = args[\"INPUT_DIM\"]\n",
    "        self.node_encoder = SequenceEncoder(args[\"MODEL_NAME\"], dtype=torch.float, size=self.size)\n",
    "        self.edge_encoder = EdgeEncoder(args[\"MODEL_NAME\"], dtype=torch.float)\n",
    "\n",
    "    def len(self):\n",
    "        return len(self.sentences)\n",
    "\n",
    "    def get(self, idx, return_sample=False):\n",
    "        data = self.sentences[idx]\n",
    "        # print(data[0])\n",
    "        tokens = data[1]\n",
    "       \n",
    "        xs = [self.node_encoder(token) for token in tokens]\n",
    "        edge_index = list(itertools.product(range(len(tokens)), range(len(tokens))))\n",
    "        edge_attr = [self.edge_encoder(tokens[i], tokens[j]) for (i, j) in edge_index]\n",
    "       \n",
    "        edge_index = torch.tensor(edge_index)\n",
    "        edge_attr = torch.stack(edge_attr)\n",
    "        x = torch.stack(xs)\n",
    "        label = torch.tensor(data[2]).to(torch.long)\n",
    "        if(return_sample == True): \n",
    "            return Data(x=x, edge_index=edge_index.T, edge_weight=edge_attr, y=label), tokens\n",
    "        else:\n",
    "            return Data(x=x, edge_index=edge_index.T, edge_weight=edge_attr, y=label)\n",
    "\n"
   ]
  },
  {
   "cell_type": "code",
   "execution_count": 5,
   "metadata": {},
   "outputs": [
    {
     "name": "stdout",
     "output_type": "stream",
     "text": [
      "Data(x=[8, 128], edge_index=[2, 64], y=1, edge_weight=[64])\n",
      "tensor([ 1.0000e+00,  9.8374e-02, -2.7609e-01,  5.1343e-02,  1.8994e-01,\n",
      "         1.4594e-01,  1.0000e+00,  2.8383e-01,  9.8374e-02,  1.0000e+00,\n",
      "         1.4512e-01,  1.8432e-01,  6.3822e-02,  3.2599e-01,  9.8374e-02,\n",
      "         1.8150e-01, -2.7609e-01,  1.4512e-01,  1.0000e+00, -6.0154e-02,\n",
      "        -1.7927e-02, -5.0070e-02, -2.7609e-01,  1.6235e-02,  5.1343e-02,\n",
      "         1.8432e-01, -6.0154e-02,  1.0000e+00,  3.2776e-02,  2.5471e-01,\n",
      "         5.1343e-02,  2.7556e-02,  1.8994e-01,  6.3822e-02, -1.7927e-02,\n",
      "         3.2776e-02,  1.0000e+00,  1.1720e-04,  1.8994e-01,  2.1631e-01,\n",
      "         1.4594e-01,  3.2599e-01, -5.0070e-02,  2.5471e-01,  1.1720e-04,\n",
      "         1.0000e+00,  1.4594e-01, -9.8896e-02,  1.0000e+00,  9.8374e-02,\n",
      "        -2.7609e-01,  5.1343e-02,  1.8994e-01,  1.4594e-01,  1.0000e+00,\n",
      "         2.8383e-01,  2.8383e-01,  1.8150e-01,  1.6235e-02,  2.7556e-02,\n",
      "         2.1631e-01, -9.8896e-02,  2.8383e-01,  1.0000e+00])\n",
      "tensor([[ 1.1652,  0.0508,  0.2478,  ...,  3.4111,  2.6354,  1.3574],\n",
      "        [ 0.9843, -0.4634, -2.0363,  ...,  0.9031,  0.0971, -1.0769],\n",
      "        [-0.3634, -0.7253, -0.4108,  ..., -1.0083,  0.1555, -0.5751],\n",
      "        ...,\n",
      "        [-0.2484, -0.0229, -2.9500,  ...,  1.0693,  0.7352, -0.1328],\n",
      "        [ 1.1652,  0.0508,  0.2478,  ...,  3.4111,  2.6354,  1.3574],\n",
      "        [ 1.0710,  0.5207,  2.1346,  ...,  1.4555, -0.0298,  3.4966]])\n"
     ]
    },
    {
     "name": "stderr",
     "output_type": "stream",
     "text": [
      "/tmp/ipykernel_4622/2253016785.py:29: UserWarning: The given NumPy array is not writable, and PyTorch does not support non-writable tensors. This means writing to this tensor will result in undefined behavior. You may want to copy the array to protect its data or make it writable before converting it to a tensor. This type of warning will be suppressed for the rest of this program. (Triggered internally at  /opt/conda/conda-bld/pytorch_1656352645774/work/torch/csrc/utils/tensor_numpy.cpp:172.)\n",
      "  x = torch.from_numpy(x).view(self.size).to(self.dtype)\n"
     ]
    }
   ],
   "source": [
    "\n",
    "with open(os.path.join(\"NLP_data\", \"nsmc_test.json\"), 'r') as f:\n",
    "    nscm_data = json.load(f)\n",
    "   \n",
    "\n",
    "dataset = NSMC_Graph(nscm_data[:200], base_params)\n",
    "data = dataset[5]\n",
    "print(data)\n",
    "print(data.edge_weight)\n",
    "print(data.x)"
   ]
  },
  {
   "cell_type": "code",
   "execution_count": 6,
   "metadata": {},
   "outputs": [],
   "source": [
    "from torch_geometric.utils import to_networkx\n",
    "\n",
    "def draw_graph(g, labels, edge_mask=None, draw_edge_labels=False):\n",
    "    # g = g.copy().to_undirected()\n",
    "    g = to_networkx(g, edge_attrs=[\"edge_weight\"], to_undirected=True)\n",
    "    node_labels = {}\n",
    "    for i in range(len(labels)):\n",
    "        node_labels[i] = labels[i]\n",
    "        \n",
    "    # pos = nx.planar_layout(g)\n",
    "    # pos = nx.spring_layout(g, pos=pos)\n",
    "    if edge_mask is None:\n",
    "        edge_color = 'black'\n",
    "        widths = None\n",
    "    else:\n",
    "        edge_color = [data[\"edge_weight\"] for u, v, data in g.edges(data=True)]\n",
    "        widths = [x * 5 for x in edge_color]\n",
    "\n",
    "    # fontprop = fm.FontProperties(fname='NanumGothic.otf', size=18)\n",
    "    nx.draw(g, labels=node_labels, width=widths,\n",
    "            edge_color=edge_color, edge_cmap=plt.cm.Blues,\n",
    "            node_color='azure', font_family=\"NanumBarunGothic\")\n",
    "    \n",
    "    if draw_edge_labels and edge_mask is not None:\n",
    "        edge_labels = {k: ('%.2f' % v) for k, v in edge_mask.items()}    \n",
    "        nx.draw_networkx_edge_labels(g, edge_labels=edge_labels,\n",
    "                                    font_color='red')\n",
    "    plt.show()"
   ]
  },
  {
   "cell_type": "code",
   "execution_count": 7,
   "metadata": {},
   "outputs": [
    {
     "name": "stdout",
     "output_type": "stream",
     "text": [
      "(Data(x=[5, 128], edge_index=[2, 25], y=0, edge_weight=[25]), ['글쌔', '슬프다', '너무', '짜이다', '한'])\n"
     ]
    },
    {
     "data": {
      "image/png": "[encoded data removed]",
      "text/plain": [
       "<Figure size 720x360 with 1 Axes>"
      ]
     },
     "metadata": {},
     "output_type": "display_data"
    }
   ],
   "source": [
    "import random\n",
    "\n",
    "i = random.choice(range(dataset.len()))\n",
    "data = dataset.get(i, return_sample=True)\n",
    "print(data)\n",
    "plt.figure(figsize=(10, 5))\n",
    "\n",
    "draw_graph(g = data[0], labels=data[1], edge_mask=True)"
   ]
  },
  {
   "cell_type": "code",
   "execution_count": 8,
   "metadata": {},
   "outputs": [
    {
     "name": "stdout",
     "output_type": "stream",
     "text": [
      "False\n",
      "True\n",
      "DataBatch(x=[118, 128], edge_index=[2, 2236], y=[10], edge_weight=[2236], batch=[118], ptr=[11])\n"
     ]
    }
   ],
   "source": [
    "from torch_geometric.loader import DataLoader\n",
    "\n",
    "dataset = NSMC_Graph(nscm_data, base_params)\n",
    "\n",
    "dataset = dataset[:10]\n",
    "loader = DataLoader(dataset, batch_size=128, shuffle=True)\n",
    "\n",
    "device = torch.device('cuda' if torch.cuda.is_available() else 'cpu')\n",
    "for graph in loader:\n",
    "    print(graph.is_cuda)\n",
    "    graph = graph.to(device)\n",
    "    print(graph.is_cuda)\n",
    "    print(graph)\n",
    "    break"
   ]
  },
  {
   "cell_type": "code",
   "execution_count": 19,
   "metadata": {},
   "outputs": [],
   "source": [
    "import pytorch_lightning as pl\n",
    "from sklearn.model_selection import train_test_split\n",
    "\n",
    "\n",
    "class DataModule(pl.LightningDataModule):\n",
    "\n",
    "    def __init__(self, args):\n",
    "        super().__init__()\n",
    "        self.data_dir = args[\"DATA\"]\n",
    "        self.batch_size = args[\"BATCH_SZ\"]\n",
    "        self.args = args\n",
    "        self.prepare_data()\n",
    "\n",
    "    def prepare_data(self):\n",
    "\n",
    "        self.sentences = []\n",
    "        with open(self.data_dir, 'r') as f:\n",
    "            sentences = json.load(f)\n",
    "            for sentence in sentences:\n",
    "                if(len(sentence[1]) > 0):\n",
    "                    self.sentences.append(sentence)\n",
    "        self.sentences = self.sentences[:len(self.sentences)//10]\n",
    "        print(\"load %d samples\"%(len(self.sentences)))\n",
    "       \n",
    "        \n",
    "    def setup(self, stage: str):\n",
    "        \n",
    "        # Assign train/val datasets for use in dataloaders\n",
    "        if stage == 'fit' or stage is None:\n",
    "            self._train, self._val = train_test_split(self.sentences, test_size=0.3)\n",
    "\n",
    "        # Assign test dataset for use in dataloader(s)\n",
    "        if stage == 'test' or stage is None:\n",
    "            self._test = self.sentences\n",
    "        \n",
    "    def train_dataloader(self):\n",
    "        return DataLoader(\n",
    "                NSMC_Graph(self._train, args=self.args),\n",
    "                batch_size=self.batch_size,\n",
    "                shuffle=True)\n",
    "    \n",
    "    def val_dataloader(self):\n",
    "        return DataLoader(\n",
    "                NSMC_Graph(self._val, args=self.args),\n",
    "                batch_size=self.batch_size,\n",
    "                shuffle=False)\n",
    "    \n",
    "    def test_dataloader(self):\n",
    "        return DataLoader(\n",
    "                NSMC_Graph(self._test, args=self.args),\n",
    "                batch_size=self.batch_size,\n",
    "                shuffle=False)"
   ]
  },
  {
   "cell_type": "code",
   "execution_count": 10,
   "metadata": {},
   "outputs": [
    {
     "name": "stdout",
     "output_type": "stream",
     "text": [
      "load 15000 samples\n",
      "DataBatch(x=[1610, 128], edge_index=[2, 34634], y=[128], edge_weight=[34634], batch=[1610], ptr=[129])\n"
     ]
    }
   ],
   "source": [
    "datamodule = DataModule(args=base_params)\n",
    "datamodule.setup(stage=\"fit\")\n",
    "\n",
    "for batch in datamodule.train_dataloader():\n",
    "    print(batch)\n",
    "    break"
   ]
  },
  {
   "cell_type": "markdown",
   "metadata": {},
   "source": [
    "## Define model"
   ]
  },
  {
   "cell_type": "code",
   "execution_count": 11,
   "metadata": {},
   "outputs": [],
   "source": [
    "import torch\n",
    "from torch.nn import Linear\n",
    "import torch.nn.functional as F\n",
    "\n",
    "from torch_geometric.nn import GraphConv, global_add_pool\n",
    "\n",
    "class Net(torch.nn.Module):\n",
    "    def __init__(self, dim, num_features, num_classes):\n",
    "        super(Net, self).__init__()\n",
    "\n",
    "        self.conv1 = GraphConv(num_features, dim)\n",
    "        self.conv2 = GraphConv(dim, dim)\n",
    "        self.conv3 = GraphConv(dim, dim)\n",
    "        self.conv4 = GraphConv(dim, dim)\n",
    "        self.conv5 = GraphConv(dim, dim)\n",
    "\n",
    "        self.lin1 = Linear(dim, dim)\n",
    "        self.lin2 = Linear(dim, num_classes)\n",
    "\n",
    "    def forward(self, x, edge_index, batch, edge_weight=None):\n",
    "        \n",
    "        x = self.conv1(x, edge_index, edge_weight).relu()\n",
    "        x = self.conv2(x, edge_index, edge_weight).relu()\n",
    "        x = self.conv3(x, edge_index, edge_weight).relu()\n",
    "        x = self.conv4(x, edge_index, edge_weight).relu()\n",
    "        x = self.conv5(x, edge_index, edge_weight).relu()\n",
    "        x = global_add_pool(x, batch)\n",
    "        x = self.lin1(x).relu()\n",
    "        x = F.dropout(x, p=0.5, training=self.training)\n",
    "        x = self.lin2(x)\n",
    "        return F.log_softmax(x, dim=-1)\n",
    "\n",
    "def initialize_weights(m):\n",
    "    if hasattr(m, 'weight') and m.weight.dim() > 1:\n",
    "        torch.nn.init.xavier_uniform_(m.weight.data)"
   ]
  },
  {
   "cell_type": "markdown",
   "metadata": {},
   "source": [
    "## Trainer"
   ]
  },
  {
   "cell_type": "code",
   "execution_count": 20,
   "metadata": {},
   "outputs": [],
   "source": [
    "import pytorch_lightning as pl\n",
    "from transformers.optimization import AdamW, get_cosine_schedule_with_warmup\n",
    "import numpy as np\n",
    "\n",
    "device = torch.device('cuda' if torch.cuda.is_available() else 'cpu')\n",
    "\n",
    "class GNN(pl.LightningModule):\n",
    "\n",
    "    def __init__(self, kwargs):\n",
    "        super(GNN, self).__init__()\n",
    "\n",
    "        if(kwargs[\"NAME\"] == \"GNN\"):\n",
    "\n",
    "            self.model = Net(dim = kwargs[\"INPUT_DIM\"], num_features=kwargs[\"HIDDEN\"], num_classes=kwargs[\"N_CLASSES\"]).to(device)\n",
    "            initialize_weights(self.model)\n",
    "        \n",
    "        self.loss_function = torch.nn.NLLLoss()\n",
    "        self.kwargs = kwargs\n",
    "        \n",
    "    def configure_optimizers(self):\n",
    "        # Prepare optimizer\n",
    "        \n",
    "        # param_optimizer = list(self.named_parameters())\n",
    "        # no_decay = ['bias', 'LayerNorm.bias', 'LayerNorm.weight']\n",
    "        # optimizer_grouped_parameters = [\n",
    "        #    {'params': [p for n, p in param_optimizer if not any(nd in n for nd in no_decay)], 'weight_decay': 0.01},\n",
    "        #    {'params': [p for n, p in param_optimizer if any(nd in n for nd in no_decay)], 'weight_decay': 0.0}\n",
    "        # ]\n",
    "        optimizer = torch.optim.AdamW(self.parameters(), lr= self.kwargs[\"LR\"])\n",
    "        # warm up lr\n",
    "        num_train_steps = len(self.trainer._data_connector._train_dataloader_source.dataloader()) * self.kwargs[\"MAX_EPOCHES\"] ##because of lighting problem from 1.5 version\n",
    "        num_warmup_steps = int(num_train_steps * self.kwargs[\"WARMUP_RATIO\"])\n",
    "        scheduler = get_cosine_schedule_with_warmup(\n",
    "            optimizer,\n",
    "            num_warmup_steps=num_warmup_steps, num_training_steps=num_train_steps)\n",
    "        lr_scheduler = {'scheduler': scheduler, 'name': 'cosine_schedule_with_warmup',\n",
    "                        'monitor': 'loss', 'interval': 'step',\n",
    "                        'frequency': 1}\n",
    "        return [optimizer], [lr_scheduler]\n",
    "\n",
    "    def forward(self, x, edge_index, batch, edge_weight=None):\n",
    "        \n",
    "        output = self.model(x, edge_index, batch)\n",
    "        return output\n",
    "\n",
    "    def cal_loss(self, outputs, trg):\n",
    "        \n",
    "        return self.loss_function(outputs, trg)\n",
    "\n",
    "    def training_step(self, batch, batch_idx):\n",
    "        batch = batch.to(device)\n",
    "        outputs = self(x=batch.x, edge_index=batch.edge_index, batch=batch.batch, edge_weight=batch.edge_weight)\n",
    "        loss = self.cal_loss(outputs, batch.y)\n",
    "\n",
    "        self.log('train_loss', loss, on_epoch=True, prog_bar=True, logger=True, batch_size=self.kwargs[\"BATCH_SZ\"])\n",
    "        return loss\n",
    "\n",
    "    def validation_step(self, batch, batch_idx):\n",
    "        batch = batch.to(device)\n",
    "       \n",
    "        outputs = self(x=batch.x, edge_index=batch.edge_index, batch=batch.batch, edge_weight=batch.edge_weight)\n",
    "        loss = self.cal_loss(outputs, batch.y)\n",
    "    \n",
    "        self.log('val_loss', loss, batch_size=self.kwargs[\"BATCH_SZ\"])\n",
    "        \n",
    "    def test_step(self, batch, batch_idx):\n",
    "        batch = batch.to(device)\n",
    "        outputs = self(x=batch.x, edge_index=batch.edge_index, batch=batch.batch, edge_weight=batch.edge_weight)\n",
    "        loss = self.cal_loss(outputs, batch.y)\n",
    "        \n",
    "        _, outs = torch.max(outputs, dim=-1)\n",
    "        target = batch.y\n",
    "        \n",
    "        self.log('test_loss', loss, batch_size=self.kwargs[\"BATCH_SZ\"])\n",
    "        return {'output': outs, 'label': target} #be careful, it gathers data on each GPUs so the data will be split\n",
    "\n",
    "    def test_epoch_end(self, test_step_outputs):\n",
    "        acc = []\n",
    "        \n",
    "        for out in test_step_outputs:\n",
    "\n",
    "            labels = out[\"label\"]\n",
    "            outputs = out[\"output\"]\n",
    "            \n",
    "            acc += [outputs.eq(labels).sum().item() / self.kwargs[\"BATCH_SZ\"]]\n",
    "        print(\"Accuracy: \", (np.array(acc)).mean())"
   ]
  },
  {
   "cell_type": "markdown",
   "metadata": {},
   "source": [
    "## Test model"
   ]
  },
  {
   "cell_type": "code",
   "execution_count": 13,
   "metadata": {},
   "outputs": [
    {
     "name": "stdout",
     "output_type": "stream",
     "text": [
      "load 15000 samples\n"
     ]
    }
   ],
   "source": [
    "data_module = DataModule(args=base_params)\n",
    "data_module.setup(stage=\"fit\")"
   ]
  },
  {
   "cell_type": "code",
   "execution_count": 14,
   "metadata": {},
   "outputs": [
    {
     "name": "stdout",
     "output_type": "stream",
     "text": [
      "torch.cuda.FloatTensor\n",
      "torch.Size([128, 2])\n",
      "tensor(612826.9375, device='cuda:0', grad_fn=<NllLossBackward0>)\n"
     ]
    }
   ],
   "source": [
    "model = GNN(kwargs=base_params)\n",
    "loss = torch.nn.NLLLoss()\n",
    "batch = next(iter(data_module.train_dataloader())).to(device)\n",
    "outputs = model(batch.x, batch.edge_index, batch.batch)\n",
    "\n",
    "print(outputs.type())\n",
    "print(outputs.size())\n",
    "l = loss(outputs, batch.y)\n",
    "print(l)"
   ]
  },
  {
   "cell_type": "markdown",
   "metadata": {},
   "source": [
    "## Training"
   ]
  },
  {
   "cell_type": "code",
   "execution_count": 15,
   "metadata": {},
   "outputs": [],
   "source": [
    "# from pytorch_lightning import Trainer\n",
    "# from pytorch_lightning.callbacks import ModelCheckpoint\n",
    "\n",
    "# data_module = DataModule(args=base_params)\n",
    "# data_module.setup(stage=\"fit\")\n",
    "\n",
    "# checkpoint_callback = ModelCheckpoint(\n",
    "#     # dirpath='model_chp',\n",
    "#     filename='{epoch:02d}',\n",
    "#     verbose=True,\n",
    "#     monitor='val_loss',\n",
    "#     mode='min'\n",
    "# )\n",
    "\n",
    "# model = GNN(kwargs=base_params)\n",
    "# trainer = Trainer(\n",
    "#     callbacks=checkpoint_callback,\n",
    "#     max_epochs=base_params[\"MAX_EPOCHES\"],\n",
    "#     gradient_clip_val=1.0,\n",
    "#     accelerator=\"gpu\",\n",
    "#     devices=1,\n",
    "#     strategy=\"dp\",\n",
    "#     )\n",
    "\n",
    "# trainer.fit(model, data_module)\n",
    "# print('best model path {}'.format(checkpoint_callback.best_model_path))"
   ]
  },
  {
   "cell_type": "code",
   "execution_count": 21,
   "metadata": {},
   "outputs": [
    {
     "name": "stderr",
     "output_type": "stream",
     "text": [
      "/home/vips/anaconda3/envs/GNN/lib/python3.10/site-packages/pytorch_lightning/loops/utilities.py:92: PossibleUserWarning: `max_epochs` was not set. Setting it to 1000 epochs. To train without an epoch limit, set `max_epochs=-1`.\n",
      "  rank_zero_warn(\n",
      "GPU available: True, used: True\n",
      "TPU available: False, using: 0 TPU cores\n",
      "IPU available: False, using: 0 IPUs\n",
      "HPU available: False, using: 0 HPUs\n"
     ]
    },
    {
     "name": "stdout",
     "output_type": "stream",
     "text": [
      "load 14937 samples\n"
     ]
    },
    {
     "name": "stderr",
     "output_type": "stream",
     "text": [
      "Restoring states from the checkpoint path at lightning_logs/graph_CNN/checkpoints/epoch=60.ckpt\n",
      "LOCAL_RANK: 0 - CUDA_VISIBLE_DEVICES: [0,1]\n",
      "Loaded model weights from checkpoint at lightning_logs/graph_CNN/checkpoints/epoch=60.ckpt\n"
     ]
    },
    {
     "name": "stdout",
     "output_type": "stream",
     "text": [
      "load 14937 samples\n"
     ]
    },
    {
     "name": "stderr",
     "output_type": "stream",
     "text": [
      "/home/vips/anaconda3/envs/GNN/lib/python3.10/site-packages/pytorch_lightning/trainer/connectors/data_connector.py:240: PossibleUserWarning: The dataloader, test_dataloader 0, does not have many workers which may be a bottleneck. Consider increasing the value of the `num_workers` argument` (try 20 which is the number of cpus on this machine) in the `DataLoader` init to improve performance.\n",
      "  rank_zero_warn(\n"
     ]
    },
    {
     "data": {
      "application/vnd.jupyter.widget-view+json": {
       "model_id": "84aa2f9b1eac40c497a16eec5422ead9",
       "version_major": 2,
       "version_minor": 0
      },
      "text/plain": [
       "Testing: 0it [00:00, ?it/s]"
      ]
     },
     "metadata": {},
     "output_type": "display_data"
    },
    {
     "name": "stderr",
     "output_type": "stream",
     "text": [
      "/home/vips/anaconda3/envs/GNN/lib/python3.10/site-packages/pytorch_lightning/overrides/data_parallel.py:99: UserWarning: Could not determine on which device the inputs are. When using DataParallel (strategy='dp'), be aware that in case you are using self.device in your code, it will reference only the root device.\n",
      "  rank_zero_warn(\n"
     ]
    },
    {
     "name": "stdout",
     "output_type": "stream",
     "text": [
      "Accuracy:  0.6615251068376068\n",
      "────────────────────────────────────────────────────────────────────────────────────────────────────────────────────────\n",
      "       Test metric             DataLoader 0\n",
      "────────────────────────────────────────────────────────────────────────────────────────────────────────────────────────\n",
      "        test_loss           0.6247313022613525\n",
      "────────────────────────────────────────────────────────────────────────────────────────────────────────────────────────\n"
     ]
    },
    {
     "data": {
      "text/plain": [
       "[{'test_loss': 0.6247313022613525}]"
      ]
     },
     "execution_count": 21,
     "metadata": {},
     "output_type": "execute_result"
    }
   ],
   "source": [
    "from pytorch_lightning import Trainer\n",
    "\n",
    "data_module = DataModule(args=base_params)\n",
    "data_module.setup(stage=\"test\")\n",
    "model = GNN(kwargs=base_params)\n",
    "trainer = Trainer(accelerator=\"gpu\", strategy=\"dp\", gpus=[0])\n",
    "trainer.test(model=model, datamodule=data_module, ckpt_path=\"lightning_logs/graph_CNN/checkpoints/epoch=60.ckpt\")"
   ]
  }
 ],
 "metadata": {
  "kernelspec": {
   "display_name": "Python 3.10.4 ('GNN')",
   "language": "python",
   "name": "python3"
  },
  "language_info": {
   "codemirror_mode": {
    "name": "ipython",
    "version": 3
   },
   "file_extension": ".py",
   "mimetype": "text/x-python",
   "name": "python",
   "nbconvert_exporter": "python",
   "pygments_lexer": "ipython3",
   "version": "3.10.4"
  },
  "orig_nbformat": 4,
  "vscode": {
   "interpreter": {
    "hash": "e215ceb6bc66c02176aac9a16ef7bdd77eb4405484a4a652fefcacf52fac4f29"
   }
  }
 },
 "nbformat": 4,
 "nbformat_minor": 2
}
